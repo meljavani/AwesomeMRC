{
 "cells": [
  {
   "cell_type": "code",
   "execution_count": 1,
   "metadata": {},
   "outputs": [
    {
     "ename": "ModuleNotFoundError",
     "evalue": "No module named 'transformers'",
     "output_type": "error",
     "traceback": [
      "\u001b[1;31m---------------------------------------------------------------------------\u001b[0m",
      "\u001b[1;31mModuleNotFoundError\u001b[0m                       Traceback (most recent call last)",
      "\u001b[1;32md:\\AwesomeMRC\\transformer-mrc\\examples\\persianqa.ipynb Cell 1'\u001b[0m in \u001b[0;36m<cell line: 1>\u001b[1;34m()\u001b[0m\n\u001b[1;32m----> <a href='vscode-notebook-cell:/d%3A/AwesomeMRC/transformer-mrc/examples/persianqa.ipynb#ch0000000?line=0'>1</a>\u001b[0m \u001b[39mimport\u001b[39;00m \u001b[39mtransformers\u001b[39;00m\n",
      "\u001b[1;31mModuleNotFoundError\u001b[0m: No module named 'transformers'"
     ]
    }
   ],
   "source": [
    "import transformers"
   ]
  },
  {
   "cell_type": "code",
   "execution_count": 2,
   "metadata": {},
   "outputs": [
    {
     "name": "stderr",
     "output_type": "stream",
     "text": [
      "c:\\Users\\m.javani\\Anaconda3\\envs\\mrc\\lib\\site-packages\\tqdm\\auto.py:22: TqdmWarning: IProgress not found. Please update jupyter and ipywidgets. See https://ipywidgets.readthedocs.io/en/stable/user_install.html\n",
      "  from .autonotebook import tqdm as notebook_tqdm\n"
     ]
    }
   ],
   "source": [
    "\n",
    "\n",
    "from transformers import AutoConfig, AutoTokenizer, AutoModelForMaskedLM\n",
    "config = AutoConfig.from_pretrained(\"HooshvareLab/albert-fa-zwnj-base-v2\", num_labels=2,\n",
    "                                          finetuning_task='squad')\n",
    "# tokenizer = AutoTokenizer.from_pretrained(\"HooshvareLab/albert-fa-zwnj-base-v2\")\n"
   ]
  },
  {
   "cell_type": "code",
   "execution_count": 3,
   "metadata": {},
   "outputs": [
    {
     "ename": "ValueError",
     "evalue": "Task not found: squad",
     "output_type": "error",
     "traceback": [
      "\u001b[1;31m---------------------------------------------------------------------------\u001b[0m",
      "\u001b[1;31mValueError\u001b[0m                                Traceback (most recent call last)",
      "\u001b[1;32md:\\AwesomeMRC\\transformer-mrc\\examples\\persianqa.ipynb Cell 3'\u001b[0m in \u001b[0;36m<cell line: 63>\u001b[1;34m()\u001b[0m\n\u001b[0;32m     <a href='vscode-notebook-cell:/d%3A/AwesomeMRC/transformer-mrc/examples/persianqa.ipynb#ch0000002?line=58'>59</a>\u001b[0m     model \u001b[39m=\u001b[39m AutoModelForMaskedLM\u001b[39m.\u001b[39mfrom_pretrained(\u001b[39m\"\u001b[39m\u001b[39mHooshvareLab/albert-fa-zwnj-base-v2\u001b[39m\u001b[39m\"\u001b[39m,\n\u001b[0;32m     <a href='vscode-notebook-cell:/d%3A/AwesomeMRC/transformer-mrc/examples/persianqa.ipynb#ch0000002?line=59'>60</a>\u001b[0m                                         from_tf\u001b[39m=\u001b[39m\u001b[39mbool\u001b[39m(\u001b[39m'\u001b[39m\u001b[39m.ckpt\u001b[39m\u001b[39m'\u001b[39m \u001b[39min\u001b[39;00m \u001b[39m\"\u001b[39m\u001b[39mHooshvareLab/albert-fa-zwnj-base-v2\u001b[39m\u001b[39m\"\u001b[39m),\n\u001b[0;32m     <a href='vscode-notebook-cell:/d%3A/AwesomeMRC/transformer-mrc/examples/persianqa.ipynb#ch0000002?line=60'>61</a>\u001b[0m                                         config\u001b[39m=\u001b[39mconfig)\n\u001b[0;32m     <a href='vscode-notebook-cell:/d%3A/AwesomeMRC/transformer-mrc/examples/persianqa.ipynb#ch0000002?line=62'>63</a>\u001b[0m \u001b[39mif\u001b[39;00m \u001b[39m__name__\u001b[39m \u001b[39m==\u001b[39m \u001b[39m\"\u001b[39m\u001b[39m__main__\u001b[39m\u001b[39m\"\u001b[39m:\n\u001b[1;32m---> <a href='vscode-notebook-cell:/d%3A/AwesomeMRC/transformer-mrc/examples/persianqa.ipynb#ch0000002?line=63'>64</a>\u001b[0m     main()\n",
      "\u001b[1;32md:\\AwesomeMRC\\transformer-mrc\\examples\\persianqa.ipynb Cell 3'\u001b[0m in \u001b[0;36mmain\u001b[1;34m()\u001b[0m\n\u001b[0;32m     <a href='vscode-notebook-cell:/d%3A/AwesomeMRC/transformer-mrc/examples/persianqa.ipynb#ch0000002?line=45'>46</a>\u001b[0m task_name \u001b[39m=\u001b[39m \u001b[39m'\u001b[39m\u001b[39msquad\u001b[39m\u001b[39m'\u001b[39m\n\u001b[0;32m     <a href='vscode-notebook-cell:/d%3A/AwesomeMRC/transformer-mrc/examples/persianqa.ipynb#ch0000002?line=46'>47</a>\u001b[0m \u001b[39mif\u001b[39;00m task_name \u001b[39mnot\u001b[39;00m \u001b[39min\u001b[39;00m processors:\n\u001b[1;32m---> <a href='vscode-notebook-cell:/d%3A/AwesomeMRC/transformer-mrc/examples/persianqa.ipynb#ch0000002?line=47'>48</a>\u001b[0m     \u001b[39mraise\u001b[39;00m \u001b[39mValueError\u001b[39;00m(\u001b[39m\"\u001b[39m\u001b[39mTask not found: \u001b[39m\u001b[39m%s\u001b[39;00m\u001b[39m\"\u001b[39m \u001b[39m%\u001b[39m (task_name))\n\u001b[0;32m     <a href='vscode-notebook-cell:/d%3A/AwesomeMRC/transformer-mrc/examples/persianqa.ipynb#ch0000002?line=48'>49</a>\u001b[0m processor \u001b[39m=\u001b[39m processors[task_name]()\n\u001b[0;32m     <a href='vscode-notebook-cell:/d%3A/AwesomeMRC/transformer-mrc/examples/persianqa.ipynb#ch0000002?line=49'>50</a>\u001b[0m output_mode \u001b[39m=\u001b[39m output_modes[task_name]\n",
      "\u001b[1;31mValueError\u001b[0m: Task not found: squad"
     ]
    }
   ],
   "source": [
    "from __future__ import absolute_import, division, print_function\n",
    "import glob\n",
    "import logging\n",
    "import os\n",
    "import random\n",
    "import json\n",
    "\n",
    "import numpy as np\n",
    "import torch\n",
    "from torch.utils.data import (DataLoader, RandomSampler, SequentialSampler,\n",
    "                              TensorDataset)\n",
    "from torch.utils.data.distributed import DistributedSampler\n",
    "\n",
    "try:\n",
    "    from torch.utils.tensorboard import SummaryWriter\n",
    "except:\n",
    "    from tensorboardX import SummaryWriter\n",
    "\n",
    "from tqdm import tqdm, trange\n",
    "\n",
    "\n",
    "from transformers import AdamW, get_linear_schedule_with_warmup\n",
    "from transformers import glue_compute_metrics as compute_metrics\n",
    "from transformers import glue_output_modes as output_modes\n",
    "from transformers import glue_processors as processors\n",
    "from transformers import glue_convert_examples_to_features as convert_examples_to_features\n",
    "import sys\n",
    "import csv\n",
    "maxInt = sys.maxsize\n",
    "while True:\n",
    "    try:\n",
    "        csv.field_size_limit(maxInt)\n",
    "        break\n",
    "    except OverflowError:\n",
    "        maxInt = int(maxInt/10)\n",
    "\n",
    "logger = logging.getLogger(__name__)\n",
    "\n",
    "\n",
    "\n",
    "def main():\n",
    "    device = torch.device(\"cpu\")\n",
    "    task_name = 'squad'\n",
    "    if task_name not in processors:\n",
    "        raise ValueError(\"Task not found: %s\" % (task_name))\n",
    "    processor = processors[task_name]()\n",
    "    output_mode = output_modes[task_name]\n",
    "    label_list = processor.get_labels()\n",
    "    num_labels = len(label_list)\n",
    "    print(output_mode)\n",
    "\n",
    "    config = AutoConfig.from_pretrained(\"HooshvareLab/albert-fa-zwnj-base-v2\",\n",
    "                                          num_labels=num_labels,\n",
    "                                          finetuning_task=task_name)\n",
    "    tokenizer = AutoTokenizer.from_pretrained(\"HooshvareLab/albert-fa-zwnj-base-v2\")\n",
    "    model = AutoModelForMaskedLM.from_pretrained(\"HooshvareLab/albert-fa-zwnj-base-v2\",\n",
    "                                        from_tf=bool('.ckpt' in \"HooshvareLab/albert-fa-zwnj-base-v2\"),\n",
    "                                        config=config)\n",
    "\n",
    "if __name__ == \"__main__\":\n",
    "    main()"
   ]
  },
  {
   "cell_type": "code",
   "execution_count": null,
   "metadata": {},
   "outputs": [],
   "source": []
  },
  {
   "cell_type": "code",
   "execution_count": null,
   "metadata": {},
   "outputs": [],
   "source": []
  }
 ],
 "metadata": {
  "kernelspec": {
   "display_name": "Python 3.8.0 ('mrc')",
   "language": "python",
   "name": "python3"
  },
  "language_info": {
   "codemirror_mode": {
    "name": "ipython",
    "version": 3
   },
   "file_extension": ".py",
   "mimetype": "text/x-python",
   "name": "python",
   "nbconvert_exporter": "python",
   "pygments_lexer": "ipython3",
   "version": "3.8.0"
  },
  "orig_nbformat": 4,
  "vscode": {
   "interpreter": {
    "hash": "51154ef31eb4c81badcc393a1ef917a4ad080f567782ca249a2ee6893fa3097f"
   }
  }
 },
 "nbformat": 4,
 "nbformat_minor": 2
}
